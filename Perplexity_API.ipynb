{
  "nbformat": 4,
  "nbformat_minor": 0,
  "metadata": {
    "colab": {
      "provenance": [],
      "authorship_tag": "ABX9TyPlkJo1k/jQ+0OUsvzkG2KJ",
      "include_colab_link": true
    },
    "kernelspec": {
      "name": "python3",
      "display_name": "Python 3"
    },
    "language_info": {
      "name": "python"
    }
  },
  "cells": [
    {
      "cell_type": "markdown",
      "metadata": {
        "id": "view-in-github",
        "colab_type": "text"
      },
      "source": [
        "<a href=\"https://colab.research.google.com/github/AntekPraktykant/3TablePivot/blob/master/Perplexity_API.ipynb\" target=\"_parent\"><img src=\"https://colab.research.google.com/assets/colab-badge.svg\" alt=\"Open In Colab\"/></a>"
      ]
    },
    {
      "cell_type": "code",
      "source": [
        "import requests\n",
        "from datetime import datetime\n",
        "import re"
      ],
      "metadata": {
        "id": "jg8PxgEcRlXY"
      },
      "execution_count": null,
      "outputs": []
    },
    {
      "cell_type": "code",
      "source": [
        "# === Load Perplexity API key ===\n",
        "def load_token(path: str) -> str:\n",
        "    with open(path, \"r\", encoding=\"utf-8\") as f:\n",
        "        return f.read().strip()\n",
        "\n",
        "PERPLEXITY_API_KEY = load_token(\"PERPLEXITY_API_KEY.txt\")\n",
        "\n",
        "# === Load Forum API key ===\n",
        "def load_token(path: str) -> str:\n",
        "    with open(path, \"r\", encoding=\"utf-8\") as f:\n",
        "        return f.read().strip()\n",
        "\n",
        "FORUM_API_KEY   = load_token(\"FORUM_API_KEY.txt\")\n",
        "forum_url       = \"https://forum.investopolis.pl/api/forums/posts\"\n",
        "auth            = (FORUM_API_KEY, \"\")       # Basic Auth\n",
        "FORUM_AUTHOR_ID = 1                     # Twój ID użytkownika"
      ],
      "metadata": {
        "id": "fwx6Qyb3RqZP"
      },
      "execution_count": null,
      "outputs": []
    },
    {
      "cell_type": "code",
      "source": [
        "# === Pobranie newsów ===\n",
        "today = datetime.now().strftime(\"%d.%m.%Y\")\n",
        "perp_url = \"https://api.perplexity.ai/chat/completions\"\n",
        "perp_headers = {\"Authorization\": f\"Bearer {PERPLEXITY_API_KEY}\"}\n",
        "perp_payload = {\n",
        "    \"model\": \"sonar\",\n",
        "    \"messages\": [\n",
        "        {\"role\": \"system\", \"content\": \"You are an expert on Warsaw Stock Exchange events.\"},\n",
        "        {\"role\": \"user\",   \"content\": f\"Podaj 5 najważniejszych wydarzeń z GPW z dnia {today}. Nie dodawaj komentarza. Potrzebuję po prostu 'gołego' newsa\"}\n",
        "    ],\n",
        "    \"search_domain_filter\": [\"gpw.pl\", \"biznes.onet.pl\", \"bankier.pl\", \"espiebi.pap.pl\"],\n",
        "}\n",
        "\n",
        "response = requests.post(perp_url, headers=perp_headers, json=perp_payload)\n",
        "response.raise_for_status()\n",
        "\n",
        "# news_content trzymamy w zmiennej – będzie dostępna w kolejnej komórce\n",
        "news_content = response.json()[\"choices\"][0][\"message\"][\"content\"]\n",
        "print(\"=== NEWSY Z PERPLEXITY ===\")\n",
        "print(news_content)"
      ],
      "metadata": {
        "id": "qxH85uBaYdmx"
      },
      "execution_count": null,
      "outputs": []
    },
    {
      "cell_type": "code",
      "source": [
        "# === Parsowanie Markdown → HTML ===\n",
        "parts = re.split(r'(?=\\d+\\.\\s)', news_content, flags=re.S)\n",
        "items = []\n",
        "for p in parts[1:]:\n",
        "    m = re.match(r'(\\d+)\\.\\s*(.+)', p, flags=re.S)\n",
        "    if m:\n",
        "        items.append(m.group(2).strip())\n",
        "\n",
        "def md_to_html(txt):\n",
        "    return re.sub(r'\\*\\*(.+?)\\*\\*', r'<strong>\\1</strong>', txt, flags=re.S)\n",
        "\n",
        "# === Składamy finalne HTML z dynamicznym tytułem ===\n",
        "html  = f\"<p><strong>Puls GPW z {today}</strong></p>\\n\"\n",
        "html += \"<ol>\\n\"\n",
        "for itm in items:\n",
        "    html += f\"  <li>{md_to_html(itm)}</li>\\n\"\n",
        "html += \"</ol>\"\n",
        "\n",
        "# === Usunięcie znacznikó źródeł [2] itp. ===\n",
        "html = re.sub(r'\\[\\d+\\]', '', html)\n",
        "\n",
        "# === Wysyłka na forum ===\n",
        "forum_payload = {\n",
        "    \"topic\": 612,\n",
        "    \"author\": FORUM_AUTHOR_ID,\n",
        "    \"post\": html\n",
        "}\n",
        "\n",
        "resp = requests.post(forum_url, auth=auth, data=forum_payload)\n",
        "if 200 <= resp.status_code < 300:\n",
        "    data = resp.json()\n",
        "    print(f\"✅ Wysłano newsy na forum pomyślnie! ID posta: {data.get('id')}\")\n",
        "else:\n",
        "    print(f\"❌ Błąd podczas wysyłki: {resp.status_code} – {resp.text}\")"
      ],
      "metadata": {
        "id": "KzGyk6rxZN0N"
      },
      "execution_count": null,
      "outputs": []
    },
    {
      "cell_type": "code",
      "source": [],
      "metadata": {
        "id": "IgXpFhGPf-EH"
      },
      "execution_count": null,
      "outputs": []
    }
  ]
}